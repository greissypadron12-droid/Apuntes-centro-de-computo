{
  "nbformat": 4,
  "nbformat_minor": 0,
  "metadata": {
    "colab": {
      "provenance": [],
      "authorship_tag": "ABX9TyOzBvvjnfbqUYXfbN3v9PZy",
      "include_colab_link": true
    },
    "kernelspec": {
      "name": "python3",
      "display_name": "Python 3"
    },
    "language_info": {
      "name": "python"
    }
  },
  "cells": [
    {
      "cell_type": "markdown",
      "metadata": {
        "id": "view-in-github",
        "colab_type": "text"
      },
      "source": [
        "<a href=\"https://colab.research.google.com/github/greissypadron12-droid/Apuntes-centro-de-computo/blob/main/CLASE_1_04_SEPTIEMBRE.ipynb\" target=\"_parent\"><img src=\"https://colab.research.google.com/assets/colab-badge.svg\" alt=\"Open In Colab\"/></a>"
      ]
    },
    {
      "cell_type": "markdown",
      "source": [
        "# Palabras Reservadas\n",
        "Las palabras reservadas (keywords) corresponden a los npmbres de las declaraciones que el interprete de Python incluye por defecto. No se deben utilizar dichas palabras para asignar nombres a otros objetos.\n",
        "\n",
        "El listado de palabras reservadas pueden ser consultado ingresando help (\"keywords\") desde el interfaz.\n",
        "\n",
        "**EJEMPLO**"
      ],
      "metadata": {
        "id": "YPMvWvvaMagp"
      }
    },
    {
      "cell_type": "code",
      "execution_count": null,
      "metadata": {
        "colab": {
          "base_uri": "https://localhost:8080/"
        },
        "id": "gh7OBSzsMC7q",
        "outputId": "ca3b43e2-f904-430b-e731-6404f91042d3"
      },
      "outputs": [
        {
          "output_type": "stream",
          "name": "stdout",
          "text": [
            "\n",
            "Here is a list of the Python keywords.  Enter any keyword to get more help.\n",
            "\n",
            "False               class               from                or\n",
            "None                continue            global              pass\n",
            "True                def                 if                  raise\n",
            "and                 del                 import              return\n",
            "as                  elif                in                  try\n",
            "assert              else                is                  while\n",
            "async               except              lambda              with\n",
            "await               finally             nonlocal            yield\n",
            "break               for                 not                 \n",
            "\n"
          ]
        }
      ],
      "source": [
        "help(\"keywords\")\n"
      ]
    },
    {
      "cell_type": "markdown",
      "source": [
        "**El espacio de nombres (namespace)**\n",
        "\n",
        "El espacio de nombres (namespace) contiene una relación den los objetos existentes en las memoria del sistema y a los nombres a los que estan ligados.\n",
        "\n",
        "\n",
        "\n",
        "*   Python es un lenguaje de alto nivel en que todos sus elementos son objetos incluyendo los tipos de datos básicos de tal forma que los terminos \"valor\" y \"objeto\" son sinónimos.\n",
        "*   Si un objeto no esta ligado al menos a un nombre, dicho objeto es desechado por el interprete.\n",
        "\n",
        "*   Un objeto puede tener más de un nombre.\n",
        "\n",
        "# El operador de una asignación\n",
        "\n",
        "Para relacionar a un nombre con un objeto, se utiliza el operador = con la siguiente síntaxis:\n",
        "\n",
        "**Ejemplos**\n",
        "\n",
        "\n",
        "\n",
        "\n",
        "\n",
        "\n"
      ],
      "metadata": {
        "id": "OPinkL1ON7qV"
      }
    },
    {
      "cell_type": "code",
      "source": [
        "saludo = \"Hola\"\n",
        "print(saludo)\n",
        "num1 = 5\n",
        "print(num1)\n",
        "num2 = \"6\"\n",
        "print(num2)\n",
        "num3 = num1 + 6\n",
        "print(num3)\n",
        "num4 = 54.23\n",
        "print(num4)"
      ],
      "metadata": {
        "colab": {
          "base_uri": "https://localhost:8080/"
        },
        "id": "cQwaTBa2P8DW",
        "outputId": "9a77d406-bb2b-4b21-d365-37b8a67f6a95"
      },
      "execution_count": 2,
      "outputs": [
        {
          "output_type": "stream",
          "name": "stdout",
          "text": [
            "Hola\n",
            "5\n",
            "6\n",
            "11\n",
            "54.23\n"
          ]
        }
      ]
    },
    {
      "cell_type": "code",
      "source": [
        "entero, flotante, complejo, booleano = 12, 4.5, (12.3 +23), True"
      ],
      "metadata": {
        "id": "cAJo0aQLSm8a"
      },
      "execution_count": 5,
      "outputs": []
    }
  ]
}