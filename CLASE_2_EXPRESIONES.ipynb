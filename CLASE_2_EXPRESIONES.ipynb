{
  "nbformat": 4,
  "nbformat_minor": 0,
  "metadata": {
    "colab": {
      "provenance": [],
      "authorship_tag": "ABX9TyNfbptOGMwE2KkoAuPdnGGI",
      "include_colab_link": true
    },
    "kernelspec": {
      "name": "python3",
      "display_name": "Python 3"
    },
    "language_info": {
      "name": "python"
    }
  },
  "cells": [
    {
      "cell_type": "markdown",
      "metadata": {
        "id": "view-in-github",
        "colab_type": "text"
      },
      "source": [
        "<a href=\"https://colab.research.google.com/github/greissypadron12-droid/Apuntes-centro-de-computo/blob/main/CLASE_2_EXPRESIONES.ipynb\" target=\"_parent\"><img src=\"https://colab.research.google.com/assets/colab-badge.svg\" alt=\"Open In Colab\"/></a>"
      ]
    },
    {
      "cell_type": "markdown",
      "source": [
        "**Expresiones y comentarios**\n",
        "\n",
        "Expresiones.\n",
        "una expresión es una combinación de nombres,objetos, operadores,funciones y métodos cuya sintaxis es correcta para el interprete de Python y que pueda dar un resultado por valor.\n",
        "\n",
        "**Ejemplos:**\n",
        "\n",
        "La siguiente celda es una expresión de asignación, la cual liga el nombre numero al objeto 78.3 mediante el operador de asiganción =."
      ],
      "metadata": {
        "id": "bFW97yPdUykU"
      }
    },
    {
      "cell_type": "code",
      "source": [
        "numero = 78.3"
      ],
      "metadata": {
        "id": "-64zmaDYVEVn"
      },
      "execution_count": 53,
      "outputs": []
    },
    {
      "cell_type": "markdown",
      "source": [
        "La siguiente es una expresión que despliega el objeto relacionado con el nombre numero."
      ],
      "metadata": {
        "id": "avOGvLP8-mxv"
      }
    },
    {
      "cell_type": "code",
      "source": [
        "# @title\n",
        "numero"
      ],
      "metadata": {
        "colab": {
          "base_uri": "https://localhost:8080/"
        },
        "id": "kA6E_5Q2-j1s",
        "outputId": "be1371cc-00f7-47a5-af5b-7b6c0e7b248a"
      },
      "execution_count": 17,
      "outputs": [
        {
          "output_type": "execute_result",
          "data": {
            "text/plain": [
              "78.3"
            ]
          },
          "metadata": {},
          "execution_count": 17
        }
      ]
    },
    {
      "cell_type": "markdown",
      "source": [
        "La siguiente es una expresión aritmética que implica valores numéricos y el operador +.\n",
        "\n"
      ],
      "metadata": {
        "id": "JbtrtEnx_xJU"
      }
    },
    {
      "cell_type": "code",
      "source": [
        "1+1"
      ],
      "metadata": {
        "colab": {
          "base_uri": "https://localhost:8080/"
        },
        "id": "zoGbTmK4_xti",
        "outputId": "43a5e099-ee4b-41e3-f80d-6ae03e49a42a"
      },
      "execution_count": 16,
      "outputs": [
        {
          "output_type": "execute_result",
          "data": {
            "text/plain": [
              "2"
            ]
          },
          "metadata": {},
          "execution_count": 16
        }
      ]
    },
    {
      "cell_type": "markdown",
      "source": [
        "La siguiente es una expresión de relación que evalua si 20 es mayor o igual a 10 usando el operador >=."
      ],
      "metadata": {
        "id": "tDIQR1rRCBYX"
      }
    },
    {
      "cell_type": "code",
      "source": [
        "10>=10"
      ],
      "metadata": {
        "colab": {
          "base_uri": "https://localhost:8080/"
        },
        "id": "aX2OG6fnCB2a",
        "outputId": "1cb09b84-858d-490d-b6ae-0e5211dc6de4"
      },
      "execution_count": 18,
      "outputs": [
        {
          "output_type": "execute_result",
          "data": {
            "text/plain": [
              "True"
            ]
          },
          "metadata": {},
          "execution_count": 18
        }
      ]
    },
    {
      "cell_type": "markdown",
      "source": [
        "La siguiente expresión ejecuta el método upper(), propio de los objetos tipo str mediante el operador de atributo . En este caso, convierte todas las letras del texto en mayúsculas."
      ],
      "metadata": {
        "id": "mlcoaLi9D8HB"
      }
    },
    {
      "cell_type": "code",
      "source": [
        "\"carro\".upper()"
      ],
      "metadata": {
        "colab": {
          "base_uri": "https://localhost:8080/",
          "height": 35
        },
        "id": "GBrKaHKdD8d2",
        "outputId": "4cf6784f-8d3f-470e-aa92-2c0cbd2c8bbd"
      },
      "execution_count": 19,
      "outputs": [
        {
          "output_type": "execute_result",
          "data": {
            "text/plain": [
              "'CARRO'"
            ],
            "application/vnd.google.colaboratory.intrinsic+json": {
              "type": "string"
            }
          },
          "metadata": {},
          "execution_count": 19
        }
      ]
    },
    {
      "cell_type": "markdown",
      "source": [
        "La siguiente celda ejecuta una expresión que invoca a la función 1 en()"
      ],
      "metadata": {
        "id": "rroWp8FRFLzw"
      }
    },
    {
      "cell_type": "code",
      "source": [
        "len(\"Trecientos___________________________\")"
      ],
      "metadata": {
        "colab": {
          "base_uri": "https://localhost:8080/"
        },
        "id": "YXgB_tlDFMJU",
        "outputId": "06457be2-837b-4d7a-b666-1e2fd4436182"
      },
      "execution_count": 29,
      "outputs": [
        {
          "output_type": "execute_result",
          "data": {
            "text/plain": [
              "37"
            ]
          },
          "metadata": {},
          "execution_count": 29
        }
      ]
    },
    {
      "cell_type": "markdown",
      "source": [
        "**Ejecución de varias expresiones en una sola línea.**\n",
        "\n",
        "El intérprete de Python permite ejecutar múltiples expresiones en una sola línea, denotando el final de una expresión usando el signo de punto y coma ;.\n",
        "\n",
        "Al usar esta sintaxis, el intérprete sólo se desplegara el resultado de la última expresión ejecutada.\n",
        "\n",
        "**Ejemplos:**\n",
        "\n",
        "A continuación se ejecutarán varias expresiones en una sola línea.Todas las expresiones se ejecutaron,pero sólo la última será desplegada.\n"
      ],
      "metadata": {
        "id": "k8XU7sxsW660"
      }
    },
    {
      "cell_type": "code",
      "source": [
        "a = 3; \"hola\" .upper(); a + 5"
      ],
      "metadata": {
        "id": "zbqb-RILZMUy",
        "colab": {
          "base_uri": "https://localhost:8080/"
        },
        "outputId": "bcec21fc-0105-4e3c-d8f4-6d27bd06dbf9"
      },
      "execution_count": 30,
      "outputs": [
        {
          "output_type": "execute_result",
          "data": {
            "text/plain": [
              "8"
            ]
          },
          "metadata": {},
          "execution_count": 30
        }
      ]
    },
    {
      "cell_type": "code",
      "source": [
        "a"
      ],
      "metadata": {
        "colab": {
          "base_uri": "https://localhost:8080/"
        },
        "id": "lB-gBu5jI8Db",
        "outputId": "f3504b22-a683-4870-8012-adb48a2d8071"
      },
      "execution_count": 31,
      "outputs": [
        {
          "output_type": "execute_result",
          "data": {
            "text/plain": [
              "3"
            ]
          },
          "metadata": {},
          "execution_count": 31
        }
      ]
    },
    {
      "cell_type": "markdown",
      "source": [
        "Si la última expresión también termina con un punto y coma, tampoco será desplegada."
      ],
      "metadata": {
        "id": "nj-k_WArZhba"
      }
    },
    {
      "cell_type": "code",
      "source": [
        "a += 11; \"amigos\" * 3; a == 1;"
      ],
      "metadata": {
        "id": "1X4xA-EvJO4z"
      },
      "execution_count": 37,
      "outputs": []
    },
    {
      "cell_type": "markdown",
      "source": [
        "**Advertencia**: No se recomienda usar este recurso ya que se corre el riesgo de ofuscar el codigo inecesariamente. Expresiones en el entorno interactivo. La interfaz interactiva evalůa las expresiones tan pronto como son ingresadas y en su caso despliega el resultado. Ejemplos: Las siguientes celdas contienen varias expresiones cuyo resultado será desplegado por el intérprete de IPython."
      ],
      "metadata": {
        "id": "QhGs8kA4KS6y"
      }
    },
    {
      "cell_type": "code",
      "source": [
        "4 * 3"
      ],
      "metadata": {
        "colab": {
          "base_uri": "https://localhost:8080/"
        },
        "id": "AfFY0fkOKdP6",
        "outputId": "d51b6a1d-3597-48d8-96c2-2337be552d24"
      },
      "execution_count": 38,
      "outputs": [
        {
          "output_type": "execute_result",
          "data": {
            "text/plain": [
              "12"
            ]
          },
          "metadata": {},
          "execution_count": 38
        }
      ]
    },
    {
      "cell_type": "code",
      "source": [
        "4 * 6"
      ],
      "metadata": {
        "colab": {
          "base_uri": "https://localhost:8080/"
        },
        "id": "t7DM-LkDPV9C",
        "outputId": "b83d479e-69c6-4ece-b7d7-38dda5bf603e"
      },
      "execution_count": 55,
      "outputs": [
        {
          "output_type": "execute_result",
          "data": {
            "text/plain": [
              "24"
            ]
          },
          "metadata": {},
          "execution_count": 55
        }
      ]
    },
    {
      "cell_type": "code",
      "source": [
        "15 == 25"
      ],
      "metadata": {
        "colab": {
          "base_uri": "https://localhost:8080/"
        },
        "id": "qcVV-3lQKn4P",
        "outputId": "3c33fc3a-d0eb-489a-d4b1-02e73cc87729"
      },
      "execution_count": 39,
      "outputs": [
        {
          "output_type": "execute_result",
          "data": {
            "text/plain": [
              "False"
            ]
          },
          "metadata": {},
          "execution_count": 39
        }
      ]
    },
    {
      "cell_type": "code",
      "source": [
        "\"hola\" + \" mundo\""
      ],
      "metadata": {
        "colab": {
          "base_uri": "https://localhost:8080/",
          "height": 35
        },
        "id": "i51NFnYrKts3",
        "outputId": "bc5623cd-743c-4bbd-827a-51a1b9b73328"
      },
      "execution_count": 41,
      "outputs": [
        {
          "output_type": "execute_result",
          "data": {
            "text/plain": [
              "'hola mundo'"
            ],
            "application/vnd.google.colaboratory.intrinsic+json": {
              "type": "string"
            }
          },
          "metadata": {},
          "execution_count": 41
        }
      ]
    },
    {
      "cell_type": "markdown",
      "source": [
        "**Comentarios**. Los comentarios son porciones de texto que aún cuando se encuentran dentro de un bloque de código, no son interpretados por Python y sirven primordialmente para documentar al código."
      ],
      "metadata": {
        "id": "zSdYVmOYLSdG"
      }
    },
    {
      "cell_type": "markdown",
      "source": [
        "**Docstrings.**\n",
        "\n",
        "Python tambiénpermite incluir comentarios de varias lineas. Ééstos deben de estar encerrad os entre triples comillas \"\"'o entre triples apóstrofes \"\".\n",
        "\n",
        "Este tipo de comentarios son conocidos como \"**docstrings**\" y son utlizados para generar documentación que se desplegaria mediante la función help().\n",
        "\n",
        "La siguiente celda define uan función con nombre funcion(), la cual incluye un docstring al principio de esta y otro al final."
      ],
      "metadata": {
        "id": "_MjpDLXvLbeP"
      }
    },
    {
      "cell_type": "code",
      "source": [
        "def funcion():\n",
        "  \"\"\"Ejemplo del uso de una docstring.\n",
        "  En este caso se utiliza para documentar una función.\"\"\"\n",
        "  print(\"Hola\")\n",
        "  \"\"\"Este es otro docstring.\n",
        "  No formará parte de la dcumentación.\"\"\""
      ],
      "metadata": {
        "id": "laEyc_qHMImV"
      },
      "execution_count": 44,
      "outputs": []
    },
    {
      "cell_type": "markdown",
      "source": [
        "Una vez que fue definida la función(), el primero docstring será parte de la documentación."
      ],
      "metadata": {
        "id": "vuS53zn5NSun"
      }
    },
    {
      "cell_type": "code",
      "source": [
        "help(funcion)"
      ],
      "metadata": {
        "colab": {
          "base_uri": "https://localhost:8080/"
        },
        "id": "AqjKmj5aNoh9",
        "outputId": "52a3fd7e-e37e-4553-ee0a-30d130e9eea6"
      },
      "execution_count": 45,
      "outputs": [
        {
          "output_type": "stream",
          "name": "stdout",
          "text": [
            "Help on function funcion in module __main__:\n",
            "\n",
            "funcion()\n",
            "    Ejemplo del uso de una docstring.\n",
            "    En este caso se utiliza para documentar una función.\n",
            "\n"
          ]
        }
      ]
    }
  ]
}